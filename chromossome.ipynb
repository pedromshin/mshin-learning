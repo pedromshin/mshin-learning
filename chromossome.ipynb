{
 "cells": [
  {
   "cell_type": "code",
   "execution_count": 1,
   "metadata": {},
   "outputs": [
    {
     "ename": "ModuleNotFoundError",
     "evalue": "No module named 'numpy'",
     "output_type": "error",
     "traceback": [
      "\u001b[0;31m---------------------------------------------------------------------------\u001b[0m",
      "\u001b[0;31mModuleNotFoundError\u001b[0m                       Traceback (most recent call last)",
      "Cell \u001b[0;32mIn[1], line 1\u001b[0m\n\u001b[0;32m----> 1\u001b[0m \u001b[39mimport\u001b[39;00m \u001b[39mnumpy\u001b[39;00m \u001b[39mas\u001b[39;00m \u001b[39mnp\u001b[39;00m\n\u001b[1;32m      4\u001b[0m \u001b[39mdef\u001b[39;00m \u001b[39mchromosomeFitness\u001b[39m(chromosome, data):\n\u001b[1;32m      5\u001b[0m     sample_size \u001b[39m=\u001b[39m \u001b[39mlen\u001b[39m(data)\n",
      "\u001b[0;31mModuleNotFoundError\u001b[0m: No module named 'numpy'"
     ]
    }
   ],
   "source": [
    "import numpy as np\n",
    "\n",
    "\n",
    "def chromosomeFitness(chromosome, data):\n",
    "    sample_size = len(data)\n",
    "    sample = data.sample(n=sample_size)\n",
    "    sample['estimated_survived'] = 0\n",
    "    sample_survived = sample['Survived'].sum()\n",
    "    sample_died = sample_size - sample_survived\n",
    "\n",
    "    binary_values = sample['binary_values'].to_numpy()\n",
    "    coefficients = np.array(chromosome)\n",
    "\n",
    "    # Ensure that the coefficients array has the same length as binary_values\n",
    "    if len(coefficients) > len(binary_values[0]):\n",
    "        coefficients = coefficients[:-1]\n",
    "    elif len(coefficients) < len(binary_values[0]):\n",
    "        coefficients = np.concatenate((coefficients, np.array([0])))\n",
    "\n",
    "    estimated_survived = np.sum(np.array([np.array(\n",
    "        list(binary), dtype=int) * coefficients for binary in binary_values]), axis=1)\n",
    "    sample['estimated_survived'] = np.where(estimated_survived > 0, 1, 0)\n",
    "\n",
    "    correctly_estimated_survived = (\n",
    "        (sample['estimated_survived'] == sample['Survived']) & (sample['Survived'] == 1)).sum()\n",
    "    correctly_estimated_died = ((sample['estimated_survived'] == sample['Survived']) & (\n",
    "        sample['Survived'] == 0)).sum()\n",
    "\n",
    "    fitness = (correctly_estimated_survived *\n",
    "               correctly_estimated_died) / (sample_survived * sample_died)\n",
    "\n",
    "    return fitness"
   ]
  }
 ],
 "metadata": {
  "kernelspec": {
   "display_name": "Python 3",
   "language": "python",
   "name": "python3"
  },
  "language_info": {
   "codemirror_mode": {
    "name": "ipython",
    "version": 3
   },
   "file_extension": ".py",
   "mimetype": "text/x-python",
   "name": "python",
   "nbconvert_exporter": "python",
   "pygments_lexer": "ipython3",
   "version": "3.11.4"
  },
  "orig_nbformat": 4
 },
 "nbformat": 4,
 "nbformat_minor": 2
}
